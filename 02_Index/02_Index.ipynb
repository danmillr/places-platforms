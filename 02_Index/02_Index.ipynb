{
 "cells": [
  {
   "cell_type": "markdown",
   "id": "97bc1149",
   "metadata": {},
   "source": [
    "## Index Tutorial for NYC Neighborhood Tabulation Areas\n",
    "\n",
    "\n",
    "[![Open In Colab](https://colab.research.google.com/assets/colab-badge.svg)](https://colab.research.google.com/github/danmillr/places-platforms/blob/main/02_Index/02_Index.ipynb)\n",
    "\n",
    "\n",
    "---\n",
    "\n",
    "## Overview & Learning Objectives\n",
    "This tutorial guides you through constructing a spatial index using real-world data from New York City. We will build a **Heat Vulnerability Index (HVI)** that combines environmental and demographic indicators.\n",
    "\n",
    "You will:\n",
    "- Learn how spatial indices are used for policy and planning\n",
    "- Join multiple spatial and tabular datasets\n",
    "- Normalize variables to prepare them for aggregation\n",
    "- Build a weighted composite index with dynamic inputs\n",
    "- Create static and interactive maps\n",
    "- Critically evaluate the assumptions behind your index\n",
    "\n",
    "By the end, you should be able to construct your own index and reflect on how methodological decisions shape outcomes.\n",
    "\n",
    "---\n",
    "\n",
    "## 1. Setup\n",
    "Install and import the required libraries. These include pandas and geopandas for data handling, matplotlib and folium for visualization, and ipywidgets for interactivity."
   ]
  },
  {
   "cell_type": "code",
   "execution_count": 2,
   "id": "439d9e5c",
   "metadata": {},
   "outputs": [
    {
     "name": "stdout",
     "output_type": "stream",
     "text": [
      "\u001b[33mWARNING: Skipping /opt/homebrew/lib/python3.11/site-packages/certifi-2024.8.30.dist-info due to invalid metadata entry 'name'\u001b[0m\u001b[33m\n",
      "\u001b[0mRequirement already satisfied: pandas in /opt/homebrew/lib/python3.11/site-packages (2.0.3)\n",
      "Requirement already satisfied: geopandas in /opt/homebrew/lib/python3.11/site-packages (0.13.2)\n",
      "Collecting matplotlib\n",
      "  Downloading matplotlib-3.10.3-cp311-cp311-macosx_11_0_arm64.whl.metadata (11 kB)\n",
      "Collecting folium\n",
      "  Using cached folium-0.20.0-py2.py3-none-any.whl.metadata (4.2 kB)\n",
      "Requirement already satisfied: ipywidgets in /opt/homebrew/lib/python3.11/site-packages (8.1.2)\n",
      "Requirement already satisfied: python-dateutil>=2.8.2 in /opt/homebrew/lib/python3.11/site-packages (from pandas) (2.8.2)\n",
      "Requirement already satisfied: pytz>=2020.1 in /opt/homebrew/lib/python3.11/site-packages (from pandas) (2023.3)\n",
      "Requirement already satisfied: tzdata>=2022.1 in /opt/homebrew/lib/python3.11/site-packages (from pandas) (2023.3)\n",
      "Requirement already satisfied: numpy>=1.21.0 in /opt/homebrew/lib/python3.11/site-packages (from pandas) (2.1.1)\n",
      "Requirement already satisfied: fiona>=1.8.19 in /opt/homebrew/lib/python3.11/site-packages (from geopandas) (1.9.4.post1)\n",
      "Requirement already satisfied: packaging in /opt/homebrew/lib/python3.11/site-packages (from geopandas) (23.1)\n",
      "Requirement already satisfied: pyproj>=3.0.1 in /opt/homebrew/lib/python3.11/site-packages (from geopandas) (3.6.0)\n",
      "Requirement already satisfied: shapely>=1.7.1 in /opt/homebrew/lib/python3.11/site-packages (from geopandas) (2.0.1)\n",
      "Collecting contourpy>=1.0.1 (from matplotlib)\n",
      "  Downloading contourpy-1.3.2-cp311-cp311-macosx_11_0_arm64.whl.metadata (5.5 kB)\n",
      "Collecting cycler>=0.10 (from matplotlib)\n",
      "  Using cached cycler-0.12.1-py3-none-any.whl.metadata (3.8 kB)\n",
      "Collecting fonttools>=4.22.0 (from matplotlib)\n",
      "  Downloading fonttools-4.58.4-cp311-cp311-macosx_10_9_universal2.whl.metadata (106 kB)\n",
      "\u001b[2K     \u001b[90m━━━━━━━━━━━━━━━━━━━━━━━━━━━━━━━━━━━━━━━\u001b[0m \u001b[32m106.6/106.6 kB\u001b[0m \u001b[31m1.2 MB/s\u001b[0m eta \u001b[36m0:00:00\u001b[0ma \u001b[36m0:00:01\u001b[0m\n",
      "\u001b[?25hCollecting kiwisolver>=1.3.1 (from matplotlib)\n",
      "  Downloading kiwisolver-1.4.8-cp311-cp311-macosx_11_0_arm64.whl.metadata (6.2 kB)\n",
      "Collecting pillow>=8 (from matplotlib)\n",
      "  Downloading pillow-11.3.0-cp311-cp311-macosx_11_0_arm64.whl.metadata (9.0 kB)\n",
      "Requirement already satisfied: pyparsing>=2.3.1 in /opt/homebrew/lib/python3.11/site-packages (from matplotlib) (3.2.3)\n",
      "Collecting branca>=0.6.0 (from folium)\n",
      "  Using cached branca-0.8.1-py3-none-any.whl.metadata (1.5 kB)\n",
      "Requirement already satisfied: jinja2>=2.9 in /opt/homebrew/lib/python3.11/site-packages (from folium) (3.1.3)\n",
      "Requirement already satisfied: requests in /opt/homebrew/lib/python3.11/site-packages (from folium) (2.32.3)\n",
      "Collecting xyzservices (from folium)\n",
      "  Using cached xyzservices-2025.4.0-py3-none-any.whl.metadata (4.3 kB)\n",
      "Requirement already satisfied: comm>=0.1.3 in /opt/homebrew/lib/python3.11/site-packages (from ipywidgets) (0.2.2)\n",
      "Requirement already satisfied: ipython>=6.1.0 in /opt/homebrew/lib/python3.11/site-packages (from ipywidgets) (8.23.0)\n",
      "Requirement already satisfied: traitlets>=4.3.1 in /opt/homebrew/lib/python3.11/site-packages (from ipywidgets) (5.14.2)\n",
      "Requirement already satisfied: widgetsnbextension~=4.0.10 in /opt/homebrew/lib/python3.11/site-packages (from ipywidgets) (4.0.10)\n",
      "Requirement already satisfied: jupyterlab-widgets~=3.0.10 in /opt/homebrew/lib/python3.11/site-packages (from ipywidgets) (3.0.10)\n",
      "Requirement already satisfied: attrs>=19.2.0 in /opt/homebrew/lib/python3.11/site-packages (from fiona>=1.8.19->geopandas) (23.1.0)\n",
      "Requirement already satisfied: certifi in /opt/homebrew/lib/python3.11/site-packages (from fiona>=1.8.19->geopandas) (2023.5.7)\n",
      "Requirement already satisfied: click~=8.0 in /opt/homebrew/lib/python3.11/site-packages (from fiona>=1.8.19->geopandas) (8.1.3)\n",
      "Requirement already satisfied: click-plugins>=1.0 in /opt/homebrew/lib/python3.11/site-packages (from fiona>=1.8.19->geopandas) (1.1.1)\n",
      "Requirement already satisfied: cligj>=0.5 in /opt/homebrew/lib/python3.11/site-packages (from fiona>=1.8.19->geopandas) (0.7.2)\n",
      "Requirement already satisfied: six in /opt/homebrew/lib/python3.11/site-packages (from fiona>=1.8.19->geopandas) (1.16.0)\n",
      "Requirement already satisfied: decorator in /opt/homebrew/lib/python3.11/site-packages (from ipython>=6.1.0->ipywidgets) (5.1.1)\n",
      "Requirement already satisfied: jedi>=0.16 in /opt/homebrew/lib/python3.11/site-packages (from ipython>=6.1.0->ipywidgets) (0.19.1)\n",
      "Requirement already satisfied: matplotlib-inline in /opt/homebrew/lib/python3.11/site-packages (from ipython>=6.1.0->ipywidgets) (0.1.6)\n",
      "Requirement already satisfied: prompt-toolkit<3.1.0,>=3.0.41 in /opt/homebrew/lib/python3.11/site-packages (from ipython>=6.1.0->ipywidgets) (3.0.43)\n",
      "Requirement already satisfied: pygments>=2.4.0 in /opt/homebrew/lib/python3.11/site-packages (from ipython>=6.1.0->ipywidgets) (2.17.2)\n",
      "Requirement already satisfied: stack-data in /opt/homebrew/lib/python3.11/site-packages (from ipython>=6.1.0->ipywidgets) (0.6.3)\n",
      "Requirement already satisfied: typing-extensions in /opt/homebrew/lib/python3.11/site-packages (from ipython>=6.1.0->ipywidgets) (4.8.0)\n",
      "Requirement already satisfied: pexpect>4.3 in /opt/homebrew/lib/python3.11/site-packages (from ipython>=6.1.0->ipywidgets) (4.9.0)\n",
      "Requirement already satisfied: MarkupSafe>=2.0 in /opt/homebrew/lib/python3.11/site-packages (from jinja2>=2.9->folium) (2.1.5)\n",
      "Requirement already satisfied: charset-normalizer<4,>=2 in /opt/homebrew/lib/python3.11/site-packages (from requests->folium) (3.3.1)\n",
      "Requirement already satisfied: idna<4,>=2.5 in /opt/homebrew/lib/python3.11/site-packages (from requests->folium) (3.4)\n",
      "Requirement already satisfied: urllib3<3,>=1.21.1 in /opt/homebrew/lib/python3.11/site-packages (from requests->folium) (2.0.7)\n",
      "Requirement already satisfied: parso<0.9.0,>=0.8.3 in /opt/homebrew/lib/python3.11/site-packages (from jedi>=0.16->ipython>=6.1.0->ipywidgets) (0.8.4)\n",
      "Requirement already satisfied: ptyprocess>=0.5 in /opt/homebrew/lib/python3.11/site-packages (from pexpect>4.3->ipython>=6.1.0->ipywidgets) (0.7.0)\n",
      "Requirement already satisfied: wcwidth in /opt/homebrew/lib/python3.11/site-packages (from prompt-toolkit<3.1.0,>=3.0.41->ipython>=6.1.0->ipywidgets) (0.2.13)\n",
      "Requirement already satisfied: executing>=1.2.0 in /opt/homebrew/lib/python3.11/site-packages (from stack-data->ipython>=6.1.0->ipywidgets) (2.0.1)\n",
      "Requirement already satisfied: asttokens>=2.1.0 in /opt/homebrew/lib/python3.11/site-packages (from stack-data->ipython>=6.1.0->ipywidgets) (2.4.1)\n",
      "Requirement already satisfied: pure-eval in /opt/homebrew/lib/python3.11/site-packages (from stack-data->ipython>=6.1.0->ipywidgets) (0.2.2)\n",
      "Downloading matplotlib-3.10.3-cp311-cp311-macosx_11_0_arm64.whl (8.1 MB)\n",
      "\u001b[2K   \u001b[90m━━━━━━━━━━━━━━━━━━━━━━━━━━━━━━━━━━━━━━━━\u001b[0m \u001b[32m8.1/8.1 MB\u001b[0m \u001b[31m48.5 MB/s\u001b[0m eta \u001b[36m0:00:00\u001b[0m00:01\u001b[0m00:01\u001b[0m\n",
      "\u001b[?25hUsing cached folium-0.20.0-py2.py3-none-any.whl (113 kB)\n",
      "Using cached branca-0.8.1-py3-none-any.whl (26 kB)\n",
      "Downloading contourpy-1.3.2-cp311-cp311-macosx_11_0_arm64.whl (254 kB)\n",
      "\u001b[2K   \u001b[90m━━━━━━━━━━━━━━━━━━━━━━━━━━━━━━━━━━━━━━━━\u001b[0m \u001b[32m254.6/254.6 kB\u001b[0m \u001b[31m16.5 MB/s\u001b[0m eta \u001b[36m0:00:00\u001b[0m\n",
      "\u001b[?25hUsing cached cycler-0.12.1-py3-none-any.whl (8.3 kB)\n",
      "Downloading fonttools-4.58.4-cp311-cp311-macosx_10_9_universal2.whl (2.8 MB)\n",
      "\u001b[2K   \u001b[90m━━━━━━━━━━━━━━━━━━━━━━━━━━━━━━━━━━━━━━━━\u001b[0m \u001b[32m2.8/2.8 MB\u001b[0m \u001b[31m68.9 MB/s\u001b[0m eta \u001b[36m0:00:00\u001b[0m:00:01\u001b[0m\n",
      "\u001b[?25hDownloading kiwisolver-1.4.8-cp311-cp311-macosx_11_0_arm64.whl (65 kB)\n",
      "\u001b[2K   \u001b[90m━━━━━━━━━━━━━━━━━━━━━━━━━━━━━━━━━━━━━━━━\u001b[0m \u001b[32m65.4/65.4 kB\u001b[0m \u001b[31m7.7 MB/s\u001b[0m eta \u001b[36m0:00:00\u001b[0m\n",
      "\u001b[?25hDownloading pillow-11.3.0-cp311-cp311-macosx_11_0_arm64.whl (4.7 MB)\n",
      "\u001b[2K   \u001b[90m━━━━━━━━━━━━━━━━━━━━━━━━━━━━━━━━━━━━━━━━\u001b[0m \u001b[32m4.7/4.7 MB\u001b[0m \u001b[31m75.5 MB/s\u001b[0m eta \u001b[36m0:00:00\u001b[0ma \u001b[36m0:00:01\u001b[0m\n",
      "\u001b[?25hUsing cached xyzservices-2025.4.0-py3-none-any.whl (90 kB)\n",
      "\u001b[33mWARNING: Skipping /opt/homebrew/lib/python3.11/site-packages/certifi-2024.8.30.dist-info due to invalid metadata entry 'name'\u001b[0m\u001b[33m\n",
      "\u001b[0mInstalling collected packages: xyzservices, pillow, kiwisolver, fonttools, cycler, contourpy, matplotlib, branca, folium\n",
      "\u001b[33mWARNING: Skipping /opt/homebrew/lib/python3.11/site-packages/certifi-2024.8.30.dist-info due to invalid metadata entry 'name'\u001b[0m\u001b[33m\n",
      "\u001b[0m\u001b[33mWARNING: Skipping /opt/homebrew/lib/python3.11/site-packages/certifi-2024.8.30.dist-info due to invalid metadata entry 'name'\u001b[0m\u001b[33m\n",
      "\u001b[0m\u001b[33mWARNING: Skipping /opt/homebrew/lib/python3.11/site-packages/certifi-2024.8.30.dist-info due to invalid metadata entry 'name'\u001b[0m\u001b[33m\n",
      "\u001b[0mSuccessfully installed branca-0.8.1 contourpy-1.3.2 cycler-0.12.1 folium-0.20.0 fonttools-4.58.4 kiwisolver-1.4.8 matplotlib-3.10.3 pillow-11.3.0 xyzservices-2025.4.0\n",
      "\n",
      "\u001b[1m[\u001b[0m\u001b[34;49mnotice\u001b[0m\u001b[1;39;49m]\u001b[0m\u001b[39;49m A new release of pip is available: \u001b[0m\u001b[31;49m24.0\u001b[0m\u001b[39;49m -> \u001b[0m\u001b[32;49m25.1.1\u001b[0m\n",
      "\u001b[1m[\u001b[0m\u001b[34;49mnotice\u001b[0m\u001b[1;39;49m]\u001b[0m\u001b[39;49m To update, run: \u001b[0m\u001b[32;49mpython3.11 -m pip install --upgrade pip\u001b[0m\n"
     ]
    }
   ],
   "source": [
    "# Install required libraries (for Google Colab)\n",
    "!pip install pandas geopandas matplotlib folium ipywidgets"
   ]
  },
  {
   "cell_type": "code",
   "execution_count": 6,
   "id": "09f57cdd",
   "metadata": {},
   "outputs": [],
   "source": [
    "import pandas as pd\n",
    "import geopandas as gpd\n",
    "import matplotlib.pyplot as plt\n",
    "import folium\n",
    "from folium import Choropleth\n",
    "import ipywidgets as widgets\n",
    "from IPython.display import display, Markdown"
   ]
  },
  {
   "cell_type": "code",
   "execution_count": 8,
   "id": "5a8ecf7f",
   "metadata": {},
   "outputs": [],
   "source": [
    "import pyproj"
   ]
  },
  {
   "cell_type": "markdown",
   "id": "41844a73",
   "metadata": {},
   "source": [
    "---\n",
    "\n",
    "## 2. Designing the Index\n",
    "\n",
    "Before building a composite index, it's essential to determine what you're trying to measure and how.\n",
    "\n",
    "### Step 1: Who is this index for?\n",
    "This heat vulnerability index (HVI) is meant to guide decision-makers and community members in identifying neighborhoods in New York City most at risk during extreme heat events.\n",
    "\n",
    "You should consider:\n",
    "- Who will use this index? (e.g., planners, emergency services, community groups)\n",
    "- What decisions will it inform?\n",
    "- What kinds of data are meaningful and actionable?\n",
    "\n",
    "### Step 2: Define your goal\n",
    "*\"Which neighborhoods in NYC are most vulnerable to extreme heat due to environmental exposure and social risk factors?\"*\n",
    "\n",
    "### Step 3: Choose your dimensions and variables\n",
    "We’ll begin with three variables across different dimensions:\n",
    "\n",
    "| Dimension              | Variable                          | Source                           |\n",
    "|------------------------|-----------------------------------|----------------------------------|\n",
    "| Exposure               | Surface Temperature (`SURFACE_TEMP`)  | hvi-nta-2020.csv                 |\n",
    "| Sensitivity            | % Crowded Households (`Percent`)      | nta_crowding.csv                |\n",
    "| Adaptive Capacity      | % Tree Canopy (`canopy_pct`)         | canopystreettree_supp_nta.csv   |\n",
    "\n",
    "Later, you may add or swap variables that reflect:\n",
    "- Age\n",
    "- Income\n",
    "- Language isolation\n",
    "- Access to AC or cooling centers\n",
    "\n",
    "### Step 4: Define your spatial unit\n",
    "We’ll use **Neighborhood Tabulation Areas (NTAs)** as the unit of analysis. These are aggregations of census tracts and represent stable planning units in NYC.\n",
    "\n",
    "Now, let’s load the data and prepare it for analysis.\n"
   ]
  },
  {
   "cell_type": "code",
   "execution_count": 9,
   "id": "c381659b",
   "metadata": {},
   "outputs": [
    {
     "ename": "DataDirError",
     "evalue": "Valid PROJ data directory not found. Either set the path using the environmental variable PROJ_DATA (PROJ 9.1+) | PROJ_LIB (PROJ<9.1) or with `pyproj.datadir.set_data_dir`.",
     "output_type": "error",
     "traceback": [
      "\u001b[31m---------------------------------------------------------------------------\u001b[39m",
      "\u001b[31mDataDirError\u001b[39m                              Traceback (most recent call last)",
      "\u001b[36mCell\u001b[39m\u001b[36m \u001b[39m\u001b[32mIn[9]\u001b[39m\u001b[32m, line 2\u001b[39m\n\u001b[32m      1\u001b[39m \u001b[38;5;66;03m# Load datasets\u001b[39;00m\n\u001b[32m----> \u001b[39m\u001b[32m2\u001b[39m nta_gdf = \u001b[43mgpd\u001b[49m\u001b[43m.\u001b[49m\u001b[43mread_file\u001b[49m\u001b[43m(\u001b[49m\u001b[33;43m\"\u001b[39;49m\u001b[33;43mdata/2020_ntas.geojson\u001b[39;49m\u001b[33;43m\"\u001b[39;49m\u001b[43m)\u001b[49m\n\u001b[32m      3\u001b[39m hvi_df = pd.read_csv(\u001b[33m\"\u001b[39m\u001b[33mdata/hvi-nta-2020.csv\u001b[39m\u001b[33m\"\u001b[39m)\n\u001b[32m      4\u001b[39m crowding_df = pd.read_csv(\u001b[33m\"\u001b[39m\u001b[33mdata/nta_crowding.csv\u001b[39m\u001b[33m\"\u001b[39m)\n",
      "\u001b[36mFile \u001b[39m\u001b[32m~/Documents/Projects/Teaching/ARCH6133/places-platforms/venv/lib/python3.12/site-packages/geopandas/io/file.py:316\u001b[39m, in \u001b[36m_read_file\u001b[39m\u001b[34m(filename, bbox, mask, columns, rows, engine, **kwargs)\u001b[39m\n\u001b[32m    313\u001b[39m             filename = response.read()\n\u001b[32m    315\u001b[39m \u001b[38;5;28;01mif\u001b[39;00m engine == \u001b[33m\"\u001b[39m\u001b[33mpyogrio\u001b[39m\u001b[33m\"\u001b[39m:\n\u001b[32m--> \u001b[39m\u001b[32m316\u001b[39m     \u001b[38;5;28;01mreturn\u001b[39;00m \u001b[43m_read_file_pyogrio\u001b[49m\u001b[43m(\u001b[49m\n\u001b[32m    317\u001b[39m \u001b[43m        \u001b[49m\u001b[43mfilename\u001b[49m\u001b[43m,\u001b[49m\u001b[43m \u001b[49m\u001b[43mbbox\u001b[49m\u001b[43m=\u001b[49m\u001b[43mbbox\u001b[49m\u001b[43m,\u001b[49m\u001b[43m \u001b[49m\u001b[43mmask\u001b[49m\u001b[43m=\u001b[49m\u001b[43mmask\u001b[49m\u001b[43m,\u001b[49m\u001b[43m \u001b[49m\u001b[43mcolumns\u001b[49m\u001b[43m=\u001b[49m\u001b[43mcolumns\u001b[49m\u001b[43m,\u001b[49m\u001b[43m \u001b[49m\u001b[43mrows\u001b[49m\u001b[43m=\u001b[49m\u001b[43mrows\u001b[49m\u001b[43m,\u001b[49m\u001b[43m \u001b[49m\u001b[43m*\u001b[49m\u001b[43m*\u001b[49m\u001b[43mkwargs\u001b[49m\n\u001b[32m    318\u001b[39m \u001b[43m    \u001b[49m\u001b[43m)\u001b[49m\n\u001b[32m    320\u001b[39m \u001b[38;5;28;01melif\u001b[39;00m engine == \u001b[33m\"\u001b[39m\u001b[33mfiona\u001b[39m\u001b[33m\"\u001b[39m:\n\u001b[32m    321\u001b[39m     \u001b[38;5;28;01mif\u001b[39;00m pd.api.types.is_file_like(filename):\n",
      "\u001b[36mFile \u001b[39m\u001b[32m~/Documents/Projects/Teaching/ARCH6133/places-platforms/venv/lib/python3.12/site-packages/geopandas/io/file.py:576\u001b[39m, in \u001b[36m_read_file_pyogrio\u001b[39m\u001b[34m(path_or_bytes, bbox, mask, rows, **kwargs)\u001b[39m\n\u001b[32m    567\u001b[39m     warnings.warn(\n\u001b[32m    568\u001b[39m         \u001b[33m\"\u001b[39m\u001b[33mThe \u001b[39m\u001b[33m'\u001b[39m\u001b[33minclude_fields\u001b[39m\u001b[33m'\u001b[39m\u001b[33m and \u001b[39m\u001b[33m'\u001b[39m\u001b[33mignore_fields\u001b[39m\u001b[33m'\u001b[39m\u001b[33m keywords are deprecated, and \u001b[39m\u001b[33m\"\u001b[39m\n\u001b[32m    569\u001b[39m         \u001b[33m\"\u001b[39m\u001b[33mwill be removed in a future release. You can use the \u001b[39m\u001b[33m'\u001b[39m\u001b[33mcolumns\u001b[39m\u001b[33m'\u001b[39m\u001b[33m keyword \u001b[39m\u001b[33m\"\u001b[39m\n\u001b[32m   (...)\u001b[39m\u001b[32m    572\u001b[39m         stacklevel=\u001b[32m3\u001b[39m,\n\u001b[32m    573\u001b[39m     )\n\u001b[32m    574\u001b[39m     kwargs[\u001b[33m\"\u001b[39m\u001b[33mcolumns\u001b[39m\u001b[33m\"\u001b[39m] = kwargs.pop(\u001b[33m\"\u001b[39m\u001b[33minclude_fields\u001b[39m\u001b[33m\"\u001b[39m)\n\u001b[32m--> \u001b[39m\u001b[32m576\u001b[39m \u001b[38;5;28;01mreturn\u001b[39;00m \u001b[43mpyogrio\u001b[49m\u001b[43m.\u001b[49m\u001b[43mread_dataframe\u001b[49m\u001b[43m(\u001b[49m\u001b[43mpath_or_bytes\u001b[49m\u001b[43m,\u001b[49m\u001b[43m \u001b[49m\u001b[43mbbox\u001b[49m\u001b[43m=\u001b[49m\u001b[43mbbox\u001b[49m\u001b[43m,\u001b[49m\u001b[43m \u001b[49m\u001b[43m*\u001b[49m\u001b[43m*\u001b[49m\u001b[43mkwargs\u001b[49m\u001b[43m)\u001b[49m\n",
      "\u001b[36mFile \u001b[39m\u001b[32m~/Documents/Projects/Teaching/ARCH6133/places-platforms/venv/lib/python3.12/site-packages/pyogrio/geopandas.py:371\u001b[39m, in \u001b[36mread_dataframe\u001b[39m\u001b[34m(path_or_buffer, layer, encoding, columns, read_geometry, force_2d, skip_features, max_features, where, bbox, mask, fids, sql, sql_dialect, fid_as_index, use_arrow, on_invalid, arrow_to_pandas_kwargs, **kwargs)\u001b[39m\n\u001b[32m    367\u001b[39m     \u001b[38;5;28;01mreturn\u001b[39;00m df\n\u001b[32m    369\u001b[39m geometry = shapely.from_wkb(geometry, on_invalid=on_invalid)\n\u001b[32m--> \u001b[39m\u001b[32m371\u001b[39m \u001b[38;5;28;01mreturn\u001b[39;00m \u001b[43mgp\u001b[49m\u001b[43m.\u001b[49m\u001b[43mGeoDataFrame\u001b[49m\u001b[43m(\u001b[49m\u001b[43mdf\u001b[49m\u001b[43m,\u001b[49m\u001b[43m \u001b[49m\u001b[43mgeometry\u001b[49m\u001b[43m=\u001b[49m\u001b[43mgeometry\u001b[49m\u001b[43m,\u001b[49m\u001b[43m \u001b[49m\u001b[43mcrs\u001b[49m\u001b[43m=\u001b[49m\u001b[43mmeta\u001b[49m\u001b[43m[\u001b[49m\u001b[33;43m\"\u001b[39;49m\u001b[33;43mcrs\u001b[39;49m\u001b[33;43m\"\u001b[39;49m\u001b[43m]\u001b[49m\u001b[43m)\u001b[49m\n",
      "\u001b[36mFile \u001b[39m\u001b[32m~/Documents/Projects/Teaching/ARCH6133/places-platforms/venv/lib/python3.12/site-packages/geopandas/geodataframe.py:243\u001b[39m, in \u001b[36mGeoDataFrame.__init__\u001b[39m\u001b[34m(self, data, geometry, crs, *args, **kwargs)\u001b[39m\n\u001b[32m    235\u001b[39m     \u001b[38;5;28;01mif\u001b[39;00m \u001b[38;5;28misinstance\u001b[39m(geometry, pd.Series) \u001b[38;5;129;01mand\u001b[39;00m geometry.name \u001b[38;5;129;01mnot\u001b[39;00m \u001b[38;5;129;01min\u001b[39;00m (\n\u001b[32m    236\u001b[39m         \u001b[33m\"\u001b[39m\u001b[33mgeometry\u001b[39m\u001b[33m\"\u001b[39m,\n\u001b[32m    237\u001b[39m         \u001b[38;5;28;01mNone\u001b[39;00m,\n\u001b[32m    238\u001b[39m     ):\n\u001b[32m    239\u001b[39m         \u001b[38;5;66;03m# __init__ always creates geometry col named \"geometry\"\u001b[39;00m\n\u001b[32m    240\u001b[39m         \u001b[38;5;66;03m# rename as `set_geometry` respects the given series name\u001b[39;00m\n\u001b[32m    241\u001b[39m         geometry = geometry.rename(\u001b[33m\"\u001b[39m\u001b[33mgeometry\u001b[39m\u001b[33m\"\u001b[39m)\n\u001b[32m--> \u001b[39m\u001b[32m243\u001b[39m     \u001b[38;5;28;43mself\u001b[39;49m\u001b[43m.\u001b[49m\u001b[43mset_geometry\u001b[49m\u001b[43m(\u001b[49m\u001b[43mgeometry\u001b[49m\u001b[43m,\u001b[49m\u001b[43m \u001b[49m\u001b[43minplace\u001b[49m\u001b[43m=\u001b[49m\u001b[38;5;28;43;01mTrue\u001b[39;49;00m\u001b[43m,\u001b[49m\u001b[43m \u001b[49m\u001b[43mcrs\u001b[49m\u001b[43m=\u001b[49m\u001b[43mcrs\u001b[49m\u001b[43m)\u001b[49m\n\u001b[32m    245\u001b[39m \u001b[38;5;28;01mif\u001b[39;00m geometry \u001b[38;5;129;01mis\u001b[39;00m \u001b[38;5;28;01mNone\u001b[39;00m \u001b[38;5;129;01mand\u001b[39;00m crs:\n\u001b[32m    246\u001b[39m     \u001b[38;5;28;01mraise\u001b[39;00m \u001b[38;5;167;01mValueError\u001b[39;00m(\n\u001b[32m    247\u001b[39m         \u001b[33m\"\u001b[39m\u001b[33mAssigning CRS to a GeoDataFrame without a geometry column is not \u001b[39m\u001b[33m\"\u001b[39m\n\u001b[32m    248\u001b[39m         \u001b[33m\"\u001b[39m\u001b[33msupported. Supply geometry using the \u001b[39m\u001b[33m'\u001b[39m\u001b[33mgeometry=\u001b[39m\u001b[33m'\u001b[39m\u001b[33m keyword argument, \u001b[39m\u001b[33m\"\u001b[39m\n\u001b[32m    249\u001b[39m         \u001b[33m\"\u001b[39m\u001b[33mor by providing a DataFrame with column name \u001b[39m\u001b[33m'\u001b[39m\u001b[33mgeometry\u001b[39m\u001b[33m'\u001b[39m\u001b[33m\"\u001b[39m,\n\u001b[32m    250\u001b[39m     )\n",
      "\u001b[36mFile \u001b[39m\u001b[32m~/Documents/Projects/Teaching/ARCH6133/places-platforms/venv/lib/python3.12/site-packages/geopandas/geodataframe.py:462\u001b[39m, in \u001b[36mGeoDataFrame.set_geometry\u001b[39m\u001b[34m(self, col, drop, inplace, crs)\u001b[39m\n\u001b[32m    459\u001b[39m     crs = \u001b[38;5;28mgetattr\u001b[39m(level, \u001b[33m\"\u001b[39m\u001b[33mcrs\u001b[39m\u001b[33m\"\u001b[39m, \u001b[38;5;28;01mNone\u001b[39;00m)\n\u001b[32m    461\u001b[39m \u001b[38;5;66;03m# Check that we are using a listlike of geometries\u001b[39;00m\n\u001b[32m--> \u001b[39m\u001b[32m462\u001b[39m level = \u001b[43m_ensure_geometry\u001b[49m\u001b[43m(\u001b[49m\u001b[43mlevel\u001b[49m\u001b[43m,\u001b[49m\u001b[43m \u001b[49m\u001b[43mcrs\u001b[49m\u001b[43m=\u001b[49m\u001b[43mcrs\u001b[49m\u001b[43m)\u001b[49m\n\u001b[32m    463\u001b[39m \u001b[38;5;66;03m# ensure_geometry only sets crs on level if it has crs==None\u001b[39;00m\n\u001b[32m    464\u001b[39m \u001b[38;5;28;01mif\u001b[39;00m \u001b[38;5;28misinstance\u001b[39m(level, GeoSeries):\n",
      "\u001b[36mFile \u001b[39m\u001b[32m~/Documents/Projects/Teaching/ARCH6133/places-platforms/venv/lib/python3.12/site-packages/geopandas/geodataframe.py:71\u001b[39m, in \u001b[36m_ensure_geometry\u001b[39m\u001b[34m(data, crs)\u001b[39m\n\u001b[32m     69\u001b[39m     \u001b[38;5;28;01mreturn\u001b[39;00m GeoSeries(out, index=data.index, name=data.name)\n\u001b[32m     70\u001b[39m \u001b[38;5;28;01melse\u001b[39;00m:\n\u001b[32m---> \u001b[39m\u001b[32m71\u001b[39m     out = \u001b[43mfrom_shapely\u001b[49m\u001b[43m(\u001b[49m\u001b[43mdata\u001b[49m\u001b[43m,\u001b[49m\u001b[43m \u001b[49m\u001b[43mcrs\u001b[49m\u001b[43m=\u001b[49m\u001b[43mcrs\u001b[49m\u001b[43m)\u001b[49m\n\u001b[32m     72\u001b[39m     \u001b[38;5;28;01mreturn\u001b[39;00m out\n",
      "\u001b[36mFile \u001b[39m\u001b[32m~/Documents/Projects/Teaching/ARCH6133/places-platforms/venv/lib/python3.12/site-packages/geopandas/array.py:190\u001b[39m, in \u001b[36mfrom_shapely\u001b[39m\u001b[34m(data, crs)\u001b[39m\n\u001b[32m    187\u001b[39m             \u001b[38;5;28;01mraise\u001b[39;00m \u001b[38;5;167;01mTypeError\u001b[39;00m(\u001b[33mf\u001b[39m\u001b[33m\"\u001b[39m\u001b[33mInput must be valid geometry objects: \u001b[39m\u001b[38;5;132;01m{\u001b[39;00mgeom\u001b[38;5;132;01m}\u001b[39;00m\u001b[33m\"\u001b[39m)\n\u001b[32m    188\u001b[39m     arr = np.array(out, dtype=\u001b[38;5;28mobject\u001b[39m)\n\u001b[32m--> \u001b[39m\u001b[32m190\u001b[39m \u001b[38;5;28;01mreturn\u001b[39;00m \u001b[43mGeometryArray\u001b[49m\u001b[43m(\u001b[49m\u001b[43marr\u001b[49m\u001b[43m,\u001b[49m\u001b[43m \u001b[49m\u001b[43mcrs\u001b[49m\u001b[43m=\u001b[49m\u001b[43mcrs\u001b[49m\u001b[43m)\u001b[49m\n",
      "\u001b[36mFile \u001b[39m\u001b[32m~/Documents/Projects/Teaching/ARCH6133/places-platforms/venv/lib/python3.12/site-packages/geopandas/array.py:340\u001b[39m, in \u001b[36mGeometryArray.__init__\u001b[39m\u001b[34m(self, data, crs)\u001b[39m\n\u001b[32m    337\u001b[39m \u001b[38;5;28mself\u001b[39m._data = data\n\u001b[32m    339\u001b[39m \u001b[38;5;28mself\u001b[39m._crs = \u001b[38;5;28;01mNone\u001b[39;00m\n\u001b[32m--> \u001b[39m\u001b[32m340\u001b[39m \u001b[38;5;28;43mself\u001b[39;49m\u001b[43m.\u001b[49m\u001b[43mcrs\u001b[49m = crs\n\u001b[32m    341\u001b[39m \u001b[38;5;28mself\u001b[39m._sindex = \u001b[38;5;28;01mNone\u001b[39;00m\n",
      "\u001b[36mFile \u001b[39m\u001b[32m~/Documents/Projects/Teaching/ARCH6133/places-platforms/venv/lib/python3.12/site-packages/geopandas/array.py:392\u001b[39m, in \u001b[36mGeometryArray.crs\u001b[39m\u001b[34m(self, value)\u001b[39m\n\u001b[32m    389\u001b[39m \u001b[38;5;28;01mif\u001b[39;00m HAS_PYPROJ:\n\u001b[32m    390\u001b[39m     \u001b[38;5;28;01mfrom\u001b[39;00m\u001b[38;5;250m \u001b[39m\u001b[34;01mpyproj\u001b[39;00m\u001b[38;5;250m \u001b[39m\u001b[38;5;28;01mimport\u001b[39;00m CRS\n\u001b[32m--> \u001b[39m\u001b[32m392\u001b[39m     \u001b[38;5;28mself\u001b[39m._crs = \u001b[38;5;28;01mNone\u001b[39;00m \u001b[38;5;28;01mif\u001b[39;00m \u001b[38;5;129;01mnot\u001b[39;00m value \u001b[38;5;28;01melse\u001b[39;00m \u001b[43mCRS\u001b[49m\u001b[43m.\u001b[49m\u001b[43mfrom_user_input\u001b[49m\u001b[43m(\u001b[49m\u001b[43mvalue\u001b[49m\u001b[43m)\u001b[49m\n\u001b[32m    393\u001b[39m \u001b[38;5;28;01melse\u001b[39;00m:\n\u001b[32m    394\u001b[39m     \u001b[38;5;28;01mif\u001b[39;00m value \u001b[38;5;129;01mis\u001b[39;00m \u001b[38;5;129;01mnot\u001b[39;00m \u001b[38;5;28;01mNone\u001b[39;00m:\n",
      "\u001b[36mFile \u001b[39m\u001b[32m~/Documents/Projects/Teaching/ARCH6133/places-platforms/venv/lib/python3.12/site-packages/pyproj/crs/crs.py:503\u001b[39m, in \u001b[36mCRS.from_user_input\u001b[39m\u001b[34m(cls, value, **kwargs)\u001b[39m\n\u001b[32m    501\u001b[39m \u001b[38;5;28;01mif\u001b[39;00m \u001b[38;5;28misinstance\u001b[39m(value, \u001b[38;5;28mcls\u001b[39m):\n\u001b[32m    502\u001b[39m     \u001b[38;5;28;01mreturn\u001b[39;00m value\n\u001b[32m--> \u001b[39m\u001b[32m503\u001b[39m \u001b[38;5;28;01mreturn\u001b[39;00m \u001b[38;5;28;43mcls\u001b[39;49m\u001b[43m(\u001b[49m\u001b[43mvalue\u001b[49m\u001b[43m,\u001b[49m\u001b[43m \u001b[49m\u001b[43m*\u001b[49m\u001b[43m*\u001b[49m\u001b[43mkwargs\u001b[49m\u001b[43m)\u001b[49m\n",
      "\u001b[36mFile \u001b[39m\u001b[32m~/Documents/Projects/Teaching/ARCH6133/places-platforms/venv/lib/python3.12/site-packages/pyproj/crs/crs.py:350\u001b[39m, in \u001b[36mCRS.__init__\u001b[39m\u001b[34m(self, projparams, **kwargs)\u001b[39m\n\u001b[32m    348\u001b[39m     \u001b[38;5;28mself\u001b[39m._local.crs = projparams\n\u001b[32m    349\u001b[39m \u001b[38;5;28;01melse\u001b[39;00m:\n\u001b[32m--> \u001b[39m\u001b[32m350\u001b[39m     \u001b[38;5;28mself\u001b[39m._local.crs = \u001b[43m_CRS\u001b[49m\u001b[43m(\u001b[49m\u001b[38;5;28;43mself\u001b[39;49m\u001b[43m.\u001b[49m\u001b[43msrs\u001b[49m\u001b[43m)\u001b[49m\n",
      "\u001b[36mFile \u001b[39m\u001b[32m~/Documents/Projects/Teaching/ARCH6133/places-platforms/venv/lib/python3.12/site-packages/pyproj/_crs.pyx:2356\u001b[39m, in \u001b[36mpyproj._crs._CRS.__init__\u001b[39m\u001b[34m()\u001b[39m\n",
      "\u001b[36mFile \u001b[39m\u001b[32m~/Documents/Projects/Teaching/ARCH6133/places-platforms/venv/lib/python3.12/site-packages/pyproj/_context.pyx:214\u001b[39m, in \u001b[36mpyproj._context.pyproj_context_create\u001b[39m\u001b[34m()\u001b[39m\n",
      "\u001b[36mFile \u001b[39m\u001b[32m~/Documents/Projects/Teaching/ARCH6133/places-platforms/venv/lib/python3.12/site-packages/pyproj/_context.pyx:163\u001b[39m, in \u001b[36mpyproj._context.pyproj_context_initialize\u001b[39m\u001b[34m()\u001b[39m\n",
      "\u001b[36mFile \u001b[39m\u001b[32m~/Documents/Projects/Teaching/ARCH6133/places-platforms/venv/lib/python3.12/site-packages/pyproj/_context.pyx:136\u001b[39m, in \u001b[36mpyproj._context.set_context_data_dir\u001b[39m\u001b[34m()\u001b[39m\n",
      "\u001b[36mFile \u001b[39m\u001b[32m~/Documents/Projects/Teaching/ARCH6133/places-platforms/venv/lib/python3.12/site-packages/pyproj/datadir.py:114\u001b[39m, in \u001b[36mget_data_dir\u001b[39m\u001b[34m()\u001b[39m\n\u001b[32m    111\u001b[39m             _VALIDATED_PROJ_DATA = \u001b[38;5;28mstr\u001b[39m(system_proj_dir)\n\u001b[32m    113\u001b[39m \u001b[38;5;28;01mif\u001b[39;00m _VALIDATED_PROJ_DATA \u001b[38;5;129;01mis\u001b[39;00m \u001b[38;5;28;01mNone\u001b[39;00m:\n\u001b[32m--> \u001b[39m\u001b[32m114\u001b[39m     \u001b[38;5;28;01mraise\u001b[39;00m DataDirError(\n\u001b[32m    115\u001b[39m         \u001b[33m\"\u001b[39m\u001b[33mValid PROJ data directory not found. \u001b[39m\u001b[33m\"\u001b[39m\n\u001b[32m    116\u001b[39m         \u001b[33m\"\u001b[39m\u001b[33mEither set the path using the environmental variable \u001b[39m\u001b[33m\"\u001b[39m\n\u001b[32m    117\u001b[39m         \u001b[33m\"\u001b[39m\u001b[33mPROJ_DATA (PROJ 9.1+) | PROJ_LIB (PROJ<9.1) or \u001b[39m\u001b[33m\"\u001b[39m\n\u001b[32m    118\u001b[39m         \u001b[33m\"\u001b[39m\u001b[33mwith `pyproj.datadir.set_data_dir`.\u001b[39m\u001b[33m\"\u001b[39m\n\u001b[32m    119\u001b[39m     )\n\u001b[32m    120\u001b[39m \u001b[38;5;28;01mreturn\u001b[39;00m _VALIDATED_PROJ_DATA\n",
      "\u001b[31mDataDirError\u001b[39m: Valid PROJ data directory not found. Either set the path using the environmental variable PROJ_DATA (PROJ 9.1+) | PROJ_LIB (PROJ<9.1) or with `pyproj.datadir.set_data_dir`."
     ]
    }
   ],
   "source": [
    "# Load datasets\n",
    "nta_gdf = gpd.read_file(\"data/2020_ntas.geojson\")\n",
    "hvi_df = pd.read_csv(\"data/hvi-nta-2020.csv\")\n",
    "crowding_df = pd.read_csv(\"data/nta_crowding.csv\")\n",
    "canopy_df = pd.read_csv(\"data/canopystreettree_supp_nta.csv\")\n",
    "\n",
    "# Inspect each file\n",
    "print(\"NTA GeoJSON:\")\n",
    "display(nta_gdf.head())\n",
    "\n",
    "print(\"\\nHeat Vulnerability Index CSV:\")\n",
    "display(hvi_df.head())\n",
    "\n",
    "print(\"\\nHousehold Crowding CSV:\")\n",
    "display(crowding_df.head())\n",
    "\n",
    "print(\"\\nCanopy Cover CSV:\")\n",
    "display(canopy_df.head())\n"
   ]
  },
  {
   "cell_type": "markdown",
   "id": "88046df3",
   "metadata": {},
   "source": [
    "---\n",
    "\n",
    "## 4. Data Linking & Validation\n",
    "This step merges the datasets into one table. The keys used are `NTACode` and `GEOCODE`. Always inspect your joins to ensure you aren't introducing nulls or losing rows."
   ]
  },
  {
   "cell_type": "code",
   "execution_count": null,
   "id": "e3263413",
   "metadata": {},
   "outputs": [],
   "source": [
    "crowding_df = crowding_df.rename(columns={\"GeoID\": \"GEOCODE\"})\n",
    "canopy_df[\"NTACode\"] = canopy_df[\"ntacode\"].str.upper()\n",
    "\n",
    "merged_df = hvi_df.merge(crowding_df, on=\"GEOCODE\", how=\"left\")\n",
    "merged_df = merged_df.merge(canopy_df, on=\"NTACode\", how=\"left\")\n",
    "merged_gdf = nta_gdf.merge(merged_df, on=\"NTACode\", how=\"left\")"
   ]
  },
  {
   "cell_type": "markdown",
   "id": "5dbdebd3",
   "metadata": {},
   "source": [
    "---\n",
    "\n",
    "## 5. Exploratory Data Analysis\n",
    "We explore variable distributions to identify skew or outliers. This step also helps students reason about transformations needed before constructing the index."
   ]
  },
  {
   "cell_type": "code",
   "execution_count": null,
   "id": "10cc6e1a",
   "metadata": {},
   "outputs": [],
   "source": [
    "merged_gdf['Percent'].dropna().astype(float).hist(bins=20)\n",
    "plt.title(\"Crowding Rate Distribution\")\n",
    "plt.xlabel(\"Percent Crowded\")\n",
    "plt.ylabel(\"Number of NTAs\")\n",
    "plt.show()"
   ]
  },
  {
   "cell_type": "markdown",
   "id": "fd938865",
   "metadata": {},
   "source": [
    "Plotting a map of the raw variable:"
   ]
  },
  {
   "cell_type": "code",
   "execution_count": null,
   "id": "126b48dc",
   "metadata": {},
   "outputs": [],
   "source": [
    "merged_gdf.plot(column='Percent', cmap='OrRd', legend=True, figsize=(10,6))\n",
    "plt.title(\"Crowding Rate by NTA\")\n",
    "plt.axis('off')\n",
    "plt.show()"
   ]
  },
  {
   "cell_type": "markdown",
   "id": "62aee6b6",
   "metadata": {},
   "source": [
    "---\n",
    "\n",
    "## 6. Normalization\n",
    "To combine variables, they must be on the same scale. We use **min–max normalization**:\n",
    "\n",
    "\\[ x_{norm} = \f\n",
    "rac{x - x_{min}}{x_{max} - x_{min}} \\]\n",
    "\n",
    "This is useful for visualization and additive indices but sensitive to outliers."
   ]
  },
  {
   "cell_type": "code",
   "execution_count": null,
   "id": "55d76bde",
   "metadata": {},
   "outputs": [],
   "source": [
    "variables = ['Percent', 'SURFACE_TEMP', 'canopy_pct']\n",
    "for var in variables:\n",
    "    merged_gdf[f\"{var}_norm\"] = (\n",
    "        merged_gdf[var] - merged_gdf[var].min()\n",
    "    ) / (merged_gdf[var].max() - merged_gdf[var].min())"
   ]
  },
  {
   "cell_type": "markdown",
   "id": "cd65c1d1",
   "metadata": {},
   "source": [
    "---\n",
    "\n",
    "## 7. Build Your Index (Interactive)\n",
    "You can set your own weights to explore different assumptions about which factors contribute most to heat vulnerability. Note that canopy is inverted to represent less vulnerability with more coverage."
   ]
  },
  {
   "cell_type": "code",
   "execution_count": null,
   "id": "770e5c83",
   "metadata": {},
   "outputs": [],
   "source": [
    "w_crowd = widgets.FloatSlider(0.33, 0, 1, 0.01, description='Crowding')\n",
    "w_temp = widgets.FloatSlider(0.33, 0, 1, 0.01, description='Temperature')\n",
    "w_canopy = widgets.FloatSlider(0.33, 0, 1, 0.01, description='Canopy')\n",
    "\n",
    "def update_index(crowd, temp, canopy):\n",
    "    total = crowd + temp + canopy\n",
    "    merged_gdf['custom_index'] = (\n",
    "        crowd * merged_gdf['Percent_norm'] +\n",
    "        temp * merged_gdf['SURFACE_TEMP_norm'] +\n",
    "        canopy * (1 - merged_gdf['canopy_pct_norm'])\n",
    "    ) / total\n",
    "\n",
    "    ax = merged_gdf.plot(\n",
    "        column='custom_index', cmap='plasma', legend=True, figsize=(10,6)\n",
    "    )\n",
    "    plt.title(\"Custom Heat Vulnerability Index\")\n",
    "    plt.axis('off')\n",
    "    plt.show()\n",
    "\n",
    "widgets.interact(update_index, crowd=w_crowd, temp=w_temp, canopy=w_canopy);"
   ]
  },
  {
   "cell_type": "markdown",
   "id": "245efcb3",
   "metadata": {},
   "source": [
    "---\n",
    "\n",
    "## 8. Advanced Options\n",
    "Explore advanced methods to improve, validate, or challenge your index construction. These techniques go beyond static weightings and help illuminate structure in your data.\n",
    "\n",
    "**Alternative normalization:** Use z-score normalization to standardize variables based on their distance from the mean."
   ]
  },
  {
   "cell_type": "code",
   "execution_count": null,
   "id": "412993db",
   "metadata": {},
   "outputs": [],
   "source": [
    "from scipy.stats import zscore\n",
    "merged_gdf['Percent_z'] = zscore(merged_gdf['Percent'].dropna())"
   ]
  },
  {
   "cell_type": "markdown",
   "id": "648198ba",
   "metadata": {},
   "source": [
    "This is particularly useful if your variables are skewed or have outliers, as it centers data at zero with a standard deviation of one.\n",
    "\n",
    "**Add more variables:** You can enrich the index by including:\n",
    "- % of residents over 65 (age vulnerability)\n",
    "- % without air conditioning (exposure risk)\n",
    "- % non-English speakers (language isolation)\n",
    "- Access to public cooling centers or shaded green space\n",
    "\n",
    "Make sure to normalize any new variables before combining them.\n",
    "\n",
    "**PCA (Principal Component Analysis):** PCA reduces multiple related variables into components that capture the most variance. It can be used to simplify and weight input dimensions empirically."
   ]
  },
  {
   "cell_type": "code",
   "execution_count": null,
   "id": "7325b547",
   "metadata": {},
   "outputs": [],
   "source": [
    "from sklearn.decomposition import PCA\n",
    "from sklearn.preprocessing import StandardScaler\n",
    "\n",
    "features = ['Percent_norm', 'SURFACE_TEMP_norm', 'canopy_pct_norm']\n",
    "X = StandardScaler().fit_transform(merged_gdf[features].dropna())\n",
    "pca = PCA(n_components=1)\n",
    "merged_gdf['pca_index'] = pca.fit_transform(X)"
   ]
  },
  {
   "cell_type": "markdown",
   "id": "35a8f65c",
   "metadata": {},
   "source": [
    "**Clustering:** Use algorithms like KMeans to segment NTAs into distinct groups of vulnerability, rather than using a single continuous index."
   ]
  },
  {
   "cell_type": "code",
   "execution_count": null,
   "id": "76bd8878",
   "metadata": {},
   "outputs": [],
   "source": [
    "from sklearn.cluster import KMeans\n",
    "\n",
    "kmeans = KMeans(n_clusters=4, random_state=0).fit(X)\n",
    "merged_gdf['cluster'] = kmeans.labels_"
   ]
  },
  {
   "cell_type": "markdown",
   "id": "b67c71f8",
   "metadata": {},
   "source": [
    "These tools allow you to compare your subjective weightings with data-driven structures. They can help expose hidden patterns or support alternative interpretations of vulnerability.\n",
    "\n",
    "---\n",
    "\n",
    "## 9. Export Your Results\n",
    "Export your final output as a GeoJSON to use in GIS or for sharing."
   ]
  },
  {
   "cell_type": "code",
   "execution_count": null,
   "id": "c68dcfc9",
   "metadata": {},
   "outputs": [],
   "source": [
    "merged_gdf[['NTACode', 'custom_index', 'geometry']].to_file(\"custom_hvi.geojson\", driver=\"GeoJSON\")"
   ]
  },
  {
   "cell_type": "markdown",
   "id": "0f979485",
   "metadata": {},
   "source": [
    "---\n",
    "\n",
    "## 10. Critical Reflection\n",
    "Questions for consideration:\n",
    "- What kinds of vulnerability are not captured here?\n",
    "- How do your weights reflect your assumptions?\n",
    "- Are there ethical concerns with publicly mapping vulnerability?\n",
    "- What might a participatory or community-informed index look like?\n",
    "\n",
    "Indexes are powerful—but they are never neutral. Be reflective, transparent, and critical."
   ]
  }
 ],
 "metadata": {
  "kernelspec": {
   "display_name": "venv",
   "language": "python",
   "name": "python3"
  },
  "language_info": {
   "codemirror_mode": {
    "name": "ipython",
    "version": 3
   },
   "file_extension": ".py",
   "mimetype": "text/x-python",
   "name": "python",
   "nbconvert_exporter": "python",
   "pygments_lexer": "ipython3",
   "version": "3.12.6"
  }
 },
 "nbformat": 4,
 "nbformat_minor": 5
}
