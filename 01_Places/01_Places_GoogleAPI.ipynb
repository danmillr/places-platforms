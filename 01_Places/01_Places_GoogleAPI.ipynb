{
 "cells": [
  {
   "cell_type": "markdown",
   "id": "ef7d32ab",
   "metadata": {},
   "source": [
    "[![Open In Colab](https://colab.research.google.com/assets/colab-badge.svg)](https://colab.research.google.com/github/danmillr/places-platforms/blob/main/01_Places/01_Places_GoogleAPI.ipynb)"
   ]
  },
  {
   "cell_type": "markdown",
   "id": "5a87b56f",
   "metadata": {},
   "source": [
    "# Section 1: Accessing Point of Interest Data with Google Places API\n",
    "\n",
    "## Learning Goal:\n",
    "In this section, you’ll learn how to use the Google Places API to fetch points of interest (POIs) in East Harlem. You’ll explore category types, send an API query, filter results spatially, and export your data."
   ]
  },
  {
   "cell_type": "markdown",
   "id": "fa0e7af5",
   "metadata": {},
   "source": [
    "## Step 1: Set Up Your Google Places API Key\n",
    "\n",
    "1. Go to the [Google Cloud Console](https://console.cloud.google.com/).\n",
    "2. Create or select a project.\n",
    "3. Go to **APIs & Services > Library**.\n",
    "4. Enable **Places API** and **Maps JavaScript API**.\n",
    "5. Go to **APIs & Services > Credentials** > **Create Credentials > API key**.\n",
    "6. Copy and paste your API key below."
   ]
  },
  {
   "cell_type": "code",
   "execution_count": null,
   "id": "06d7639e",
   "metadata": {},
   "outputs": [],
   "source": [
    "GOOGLE_API_KEY = \"YOUR_API_KEY_HERE\""
   ]
  },
  {
   "cell_type": "markdown",
   "id": "e4141fee",
   "metadata": {},
   "source": [
    "## Step 2: Define the Area of Interest"
   ]
  },
  {
   "cell_type": "code",
   "execution_count": null,
   "id": "d7972277",
   "metadata": {},
   "outputs": [],
   "source": [
    "# Default: East Harlem center and radius\n",
    "east_harlem_center = (40.8007, -73.9375)\n",
    "search_radius = 1000"
   ]
  },
  {
   "cell_type": "markdown",
   "id": "f893ee97",
   "metadata": {},
   "source": [
    "## Upload a Boundary File for East Harlem"
   ]
  },
  {
   "cell_type": "code",
   "execution_count": null,
   "id": "21921452",
   "metadata": {},
   "outputs": [],
   "source": [
    "!pip install folium matplotlib mapclassify\n",
    "from google.colab import files\n",
    "import geopandas as gpd\n",
    "from shapely.geometry import Point\n",
    "\n",
    "uploaded = files.upload()\n",
    "boundary_file = list(uploaded.keys())[0]\n",
    "east_harlem_poly = gpd.read_file(boundary_file).to_crs(epsg=4326)\n",
    "east_harlem_poly.explore()"
   ]
  },
  {
   "cell_type": "markdown",
   "id": "6865fce0",
   "metadata": {},
   "source": [
    "## What Place Types Can You Search?\n",
    "Google uses Place Types for structured queries.\n",
    "\n",
    "**Examples**: `restaurant`, `hospital`, `school`, `grocery_or_supermarket`\n",
    "\n",
    "**Full list**: https://developers.google.com/maps/documentation/places/web-service/supported_types"
   ]
  },
  {
   "cell_type": "markdown",
   "id": "b0eb9220",
   "metadata": {},
   "source": [
    "## Step 3: Query for Places"
   ]
  },
  {
   "cell_type": "code",
   "execution_count": null,
   "id": "929f8877",
   "metadata": {},
   "outputs": [],
   "source": [
    "import requests\n",
    "\n",
    "def search_places_type(place_type, location, radius, api_key):\n",
    "    url = \"https://maps.googleapis.com/maps/api/place/nearbysearch/json\"\n",
    "    params = {\n",
    "        \"key\": api_key,\n",
    "        \"location\": f\"{location[0]},{location[1]}\",\n",
    "        \"radius\": radius,\n",
    "        \"type\": place_type\n",
    "    }\n",
    "    response = requests.get(url, params=params)\n",
    "    return response.json().get(\"results\", [])\n",
    "\n",
    "place_type = \"school\"\n",
    "results = search_places_type(place_type, east_harlem_center, search_radius, GOOGLE_API_KEY)\n",
    "print(f\"Returned {len(results)} results.\")"
   ]
  },
  {
   "cell_type": "markdown",
   "id": "43525cd5",
   "metadata": {},
   "source": [
    "## Filter by Custom Boundary (if uploaded)"
   ]
  },
  {
   "cell_type": "code",
   "execution_count": null,
   "id": "6476311f",
   "metadata": {},
   "outputs": [],
   "source": [
    "def filter_within_polygon(results, polygon_gdf):\n",
    "    filtered = []\n",
    "    for place in results:\n",
    "        loc = place[\"geometry\"][\"location\"]\n",
    "        point = Point(loc[\"lng\"], loc[\"lat\"])\n",
    "        if polygon_gdf.geometry.contains(point).any():\n",
    "            place[\"location_point\"] = point\n",
    "            filtered.append(place)\n",
    "    return filtered\n",
    "\n",
    "if 'east_harlem_poly' in globals():\n",
    "    results = filter_within_polygon(results, east_harlem_poly)\n",
    "    print(f\"Filtered to {len(results)} points inside polygon.\")"
   ]
  },
  {
   "cell_type": "markdown",
   "id": "d74bf972",
   "metadata": {},
   "source": [
    "## Step 4: Visualize on a Map"
   ]
  },
  {
   "cell_type": "code",
   "execution_count": null,
   "id": "aa2d5c32",
   "metadata": {},
   "outputs": [],
   "source": [
    "import folium\n",
    "\n",
    "m = folium.Map(location=east_harlem_center, zoom_start=15, tiles=\"cartodbpositron\")\n",
    "if 'east_harlem_poly' in globals():\n",
    "    folium.GeoJson(east_harlem_poly).add_to(m)\n",
    "for place in results:\n",
    "    p = place[\"geometry\"][\"location\"]\n",
    "    folium.Marker(\n",
    "        location=[p[\"lat\"], p[\"lng\"]],\n",
    "        popup=place[\"name\"],\n",
    "        tooltip=place.get(\"vicinity\", \"\")\n",
    "    ).add_to(m)\n",
    "m"
   ]
  },
  {
   "cell_type": "markdown",
   "id": "ce1c2086",
   "metadata": {},
   "source": [
    "## Export to GeoJSON"
   ]
  },
  {
   "cell_type": "code",
   "execution_count": null,
   "id": "12c5540d",
   "metadata": {},
   "outputs": [],
   "source": [
    "import pandas as pd\n",
    "df = pd.DataFrame(results)\n",
    "df['geometry'] = df.apply(lambda row: Point(row['geometry']['location']['lng'], row['geometry']['location']['lat']), axis=1)\n",
    "import geopandas as gpd\n",
    "gdf = gpd.GeoDataFrame(df, geometry='geometry', crs='EPSG:4326')\n",
    "gdf.to_file('google_places_results.geojson', driver='GeoJSON')\n",
    "from google.colab import files\n",
    "files.download('google_places_results.geojson')"
   ]
  },
  {
   "cell_type": "markdown",
   "id": "d9db386d",
   "metadata": {},
   "source": [
    "## Advanced Query: More Results and Metadata\n",
    "\n",
    "Explore more results using pagination and see extra metadata fields. See full metadata field list: https://developers.google.com/maps/documentation/places/web-service/legacy/place-data-fields"
   ]
  },
  {
   "cell_type": "code",
   "execution_count": null,
   "id": "8b7ad151",
   "metadata": {},
   "outputs": [],
   "source": [
    "def get_all_pages(place_type, location, radius, api_key):\n",
    "    url = \"https://maps.googleapis.com/maps/api/place/nearbysearch/json\"\n",
    "    params = {\n",
    "        \"key\": api_key,\n",
    "        \"location\": f\"{location[0]},{location[1]}\",\n",
    "        \"radius\": radius,\n",
    "        \"type\": place_type\n",
    "    }\n",
    "    all_results = []\n",
    "    while True:\n",
    "        response = requests.get(url, params=params).json()\n",
    "        all_results.extend(response.get(\"results\", []))\n",
    "        next_page = response.get(\"next_page_token\")\n",
    "        if not next_page:\n",
    "            break\n",
    "        import time\n",
    "        time.sleep(2)\n",
    "        params = {\"key\": api_key, \"pagetoken\": next_page}\n",
    "    return all_results"
   ]
  },
  {
   "cell_type": "code",
   "execution_count": null,
   "id": "676ea90d",
   "metadata": {},
   "outputs": [],
   "source": [
    "advanced_results = get_all_pages(place_type, east_harlem_center, search_radius, GOOGLE_API_KEY)\n",
    "print(f\"Retrieved {len(advanced_results)} total results.\")"
   ]
  },
  {
   "cell_type": "code",
   "execution_count": null,
   "id": "dd813430",
   "metadata": {},
   "outputs": [],
   "source": [
    "for place in advanced_results[:3]:\n",
    "    print(\"Name:\", place.get(\"name\"))\n",
    "    print(\"Types:\", place.get(\"types\"))\n",
    "    print(\"Rating:\", place.get(\"rating\"))\n",
    "    print(\"User Ratings Total:\", place.get(\"user_ratings_total\"))\n",
    "    print(\"Business Status:\", place.get(\"business_status\"))\n",
    "    print(\"Opening Hours:\", place.get(\"opening_hours\", {}).get(\"open_now\"))\n",
    "    print(\"---\")"
   ]
  },
  {
   "cell_type": "markdown",
   "id": "8ce70ffa",
   "metadata": {},
   "source": [
    "## Visualize Advanced Results"
   ]
  },
  {
   "cell_type": "code",
   "execution_count": null,
   "id": "16a04d3c",
   "metadata": {},
   "outputs": [],
   "source": [
    "m_adv = folium.Map(location=east_harlem_center, zoom_start=15, tiles=\"cartodbpositron\")\n",
    "for place in advanced_results:\n",
    "    p = place[\"geometry\"][\"location\"]\n",
    "    popup_text = f\"{place.get('name', 'Unnamed')}\\nRating: {place.get('rating', 'N/A')}\\nStatus: {place.get('business_status', 'N/A')}\"\n",
    "    folium.Marker(\n",
    "        location=[p[\"lat\"], p[\"lng\"]],\n",
    "        popup=popup_text,\n",
    "        tooltip=place.get(\"vicinity\", \"\")\n",
    "    ).add_to(m_adv)\n",
    "m_adv"
   ]
  },
  {
   "cell_type": "markdown",
   "id": "275795d4",
   "metadata": {},
   "source": [
    "## Export Advanced Results to GeoJSON"
   ]
  },
  {
   "cell_type": "code",
   "execution_count": null,
   "id": "0314aac9",
   "metadata": {},
   "outputs": [],
   "source": [
    "df_adv = pd.DataFrame(advanced_results)\n",
    "df_adv['geometry'] = df_adv.apply(lambda row: Point(row['geometry']['location']['lng'], row['geometry']['location']['lat']), axis=1)\n",
    "gdf_adv = gpd.GeoDataFrame(df_adv, geometry='geometry', crs='EPSG:4326')\n",
    "gdf_adv.to_file('google_places_advanced.geojson', driver='GeoJSON')\n",
    "files.download('google_places_advanced.geojson')"
   ]
  }
 ],
 "metadata": {},
 "nbformat": 4,
 "nbformat_minor": 5
}
