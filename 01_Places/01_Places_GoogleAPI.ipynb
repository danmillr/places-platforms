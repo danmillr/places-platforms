{
 "cells": [
  {
   "cell_type": "markdown",
   "id": "6eb7cacc",
   "metadata": {},
   "source": [
    "[![Open In Colab](https://colab.research.google.com/assets/colab-badge.svg)](https://colab.research.google.com/github/danmillr/places-platforms/blob/main/01_Places/01_Places_GoogleAPI.ipynb)"
   ]
  },
  {
   "cell_type": "markdown",
   "id": "d42d44ca",
   "metadata": {},
   "source": [
    "# Section 1: Accessing Point of Interest Data with Google Places API\n",
    "\n",
    "## Learning Goal:\n",
    "In this section, you’ll learn how to use the Google Places API to fetch points of interest (POIs) in East Harlem. You’ll explore category types, send an API query, filter results spatially, and export your data."
   ]
  },
  {
   "cell_type": "markdown",
   "id": "f54ebecd",
   "metadata": {},
   "source": [
    "## Step 1: Set Up Your Google Places API Key\n",
    "\n",
    "**Instructions (only needs to be done once):**\n",
    "1. Go to the [Google Cloud Console](https://console.cloud.google.com/).\n",
    "2. Create or select a project.\n",
    "3. In the navigation menu, go to **APIs & Services > Library**.\n",
    "4. Search for and enable: **Places API** and **Maps JavaScript API**.\n",
    "5. Go to **APIs & Services > Credentials** and click **Create Credentials > API key**.\n",
    "6. Copy the API key (you’ll paste it below).\n",
    "7. Optional (recommended): Restrict your key to just the Places API and set usage limits."
   ]
  },
  {
   "cell_type": "code",
   "execution_count": null,
   "id": "720f1c40",
   "metadata": {},
   "outputs": [],
   "source": [
    "# Paste your API key here\n",
    "GOOGLE_API_KEY = \"YOUR_API_KEY_HERE\""
   ]
  },
  {
   "cell_type": "markdown",
   "id": "7ac10336",
   "metadata": {},
   "source": [
    "## Step 2: Define the Area of Interest"
   ]
  },
  {
   "cell_type": "code",
   "execution_count": null,
   "id": "48cd438e",
   "metadata": {},
   "outputs": [],
   "source": [
    "# Default: East Harlem center and radius\n",
    "east_harlem_center = (40.8007, -73.9375)\n",
    "search_radius = 1000"
   ]
  },
  {
   "cell_type": "markdown",
   "id": "150cc1b7",
   "metadata": {},
   "source": [
    "## Upload a Boundary File for East Harlem"
   ]
  },
  {
   "cell_type": "code",
   "execution_count": null,
   "id": "f37e976e",
   "metadata": {},
   "outputs": [],
   "source": [
    "from google.colab import files\n",
    "import geopandas as gpd\n",
    "from shapely.geometry import Point\n",
    "\n",
    "uploaded = files.upload()\n",
    "boundary_file = list(uploaded.keys())[0]\n",
    "east_harlem_poly = gpd.read_file(boundary_file).to_crs(epsg=4326)\n",
    "east_harlem_poly.explore()"
   ]
  },
  {
   "cell_type": "markdown",
   "id": "b0ad3403",
   "metadata": {},
   "source": [
    "## What Place Types Can You Search?\n",
    "\n",
    "Google uses **Place Types** for consistent queries.\n",
    "\n",
    "Examples: `restaurant`, `hospital`, `school`, `grocery_or_supermarket`\n",
    "\n",
    "Full list: https://developers.google.com/maps/documentation/places/web-service/supported_types"
   ]
  },
  {
   "cell_type": "markdown",
   "id": "d81daa83",
   "metadata": {},
   "source": [
    "## Step 3: Query for Places"
   ]
  },
  {
   "cell_type": "code",
   "execution_count": null,
   "id": "cd4aaf72",
   "metadata": {},
   "outputs": [],
   "source": [
    "import requests\n",
    "\n",
    "def search_places_type(place_type, location, radius, api_key):\n",
    "    url = \"https://maps.googleapis.com/maps/api/place/nearbysearch/json\"\n",
    "    params = {\n",
    "        \"key\": api_key,\n",
    "        \"location\": f\"{location[0]},{location[1]}\",\n",
    "        \"radius\": radius,\n",
    "        \"type\": place_type\n",
    "    }\n",
    "    response = requests.get(url, params=params)\n",
    "    return response.json().get(\"results\", [])\n",
    "\n",
    "place_type = \"school\"\n",
    "results = search_places_type(place_type, east_harlem_center, search_radius, GOOGLE_API_KEY)\n",
    "print(f\"Returned {len(results)} results.\")"
   ]
  },
  {
   "cell_type": "markdown",
   "id": "c807c612",
   "metadata": {},
   "source": [
    "## Understand the Free Tier and Quota Limits"
   ]
  },
  {
   "cell_type": "markdown",
   "id": "a638984f",
   "metadata": {},
   "source": [
    "- Free tier: $200/month (~11,000 queries)\n",
    "- One query returns up to 20 results (can paginate to 60)\n",
    "- Avoid looping through large batches of places or locations"
   ]
  },
  {
   "cell_type": "markdown",
   "id": "233a1cad",
   "metadata": {},
   "source": [
    "## Filter by Custom Boundary (if uploaded)"
   ]
  },
  {
   "cell_type": "code",
   "execution_count": null,
   "id": "9de85e71",
   "metadata": {},
   "outputs": [],
   "source": [
    "def filter_within_polygon(results, polygon_gdf):\n",
    "    filtered = []\n",
    "    for place in results:\n",
    "        loc = place[\"geometry\"][\"location\"]\n",
    "        point = Point(loc[\"lng\"], loc[\"lat\"])\n",
    "        if polygon_gdf.geometry.contains(point).any():\n",
    "            place[\"location_point\"] = point\n",
    "            filtered.append(place)\n",
    "    return filtered\n",
    "\n",
    "if 'east_harlem_poly' in globals():\n",
    "    results = filter_within_polygon(results, east_harlem_poly)\n",
    "    print(f\"Filtered to {len(results)} points inside polygon.\")"
   ]
  },
  {
   "cell_type": "markdown",
   "id": "c4d33c3b",
   "metadata": {},
   "source": [
    "## Step 4: Visualize on a Map"
   ]
  },
  {
   "cell_type": "code",
   "execution_count": null,
   "id": "53a729fe",
   "metadata": {},
   "outputs": [],
   "source": [
    "!pip install folium\n",
    "import folium\n",
    "\n",
    "m = folium.Map(location=east_harlem_center, zoom_start=15, tiles=\"cartodbpositron\")\n",
    "if 'east_harlem_poly' in globals():\n",
    "    folium.GeoJson(east_harlem_poly).add_to(m)\n",
    "\n",
    "for place in results:\n",
    "    p = place[\"geometry\"][\"location\"]\n",
    "    folium.Marker(\n",
    "        location=[p[\"lat\"], p[\"lng\"]],\n",
    "        popup=place[\"name\"],\n",
    "        tooltip=place.get(\"vicinity\", \"\")\n",
    "    ).add_to(m)\n",
    "\n",
    "m"
   ]
  },
  {
   "cell_type": "markdown",
   "id": "078472df",
   "metadata": {},
   "source": [
    "## Export to GeoJSON"
   ]
  },
  {
   "cell_type": "code",
   "execution_count": null,
   "id": "23b37b6b",
   "metadata": {},
   "outputs": [],
   "source": [
    "import pandas as pd\n",
    "import geopandas as gpd\n",
    "from shapely.geometry import Point\n",
    "\n",
    "df = pd.DataFrame(results)\n",
    "df['geometry'] = df.apply(lambda row: Point(row[\"geometry\"][\"location\"][\"lng\"], row[\"geometry\"][\"location\"][\"lat\"]), axis=1)\n",
    "gdf = gpd.GeoDataFrame(df, geometry='geometry', crs=\"EPSG:4326\")\n",
    "\n",
    "output_file = \"google_places_results.geojson\"\n",
    "gdf.to_file(output_file, driver='GeoJSON')\n",
    "\n",
    "from google.colab import files\n",
    "files.download(output_file)"
   ]
  },
  {
   "cell_type": "markdown",
   "id": "c609b8b6",
   "metadata": {},
   "source": [
    "## Advanced Query: More Results and Metadata"
   ]
  },
  {
   "cell_type": "code",
   "execution_count": null,
   "id": "366fd119",
   "metadata": {},
   "outputs": [],
   "source": [
    "def get_all_pages(place_type, location, radius, api_key):\n",
    "    url = \"https://maps.googleapis.com/maps/api/place/nearbysearch/json\"\n",
    "    params = {\n",
    "        \"key\": api_key,\n",
    "        \"location\": f\"{location[0]},{location[1]}\",\n",
    "        \"radius\": radius,\n",
    "        \"type\": place_type\n",
    "    }\n",
    "    all_results = []\n",
    "    while True:\n",
    "        response = requests.get(url, params=params).json()\n",
    "        all_results.extend(response.get(\"results\", []))\n",
    "        next_page = response.get(\"next_page_token\")\n",
    "        if not next_page:\n",
    "            break\n",
    "        import time\n",
    "        time.sleep(2)\n",
    "        params = {\n",
    "            \"key\": api_key,\n",
    "            \"pagetoken\": next_page\n",
    "        }\n",
    "    return all_results"
   ]
  },
  {
   "cell_type": "code",
   "execution_count": null,
   "id": "a61972db",
   "metadata": {},
   "outputs": [],
   "source": [
    "# Run advanced query with pagination\n",
    "advanced_results = get_all_pages(place_type, east_harlem_center, search_radius, GOOGLE_API_KEY)\n",
    "print(f\"Retrieved {len(advanced_results)} total results.\")"
   ]
  },
  {
   "cell_type": "code",
   "execution_count": null,
   "id": "93e7b043",
   "metadata": {},
   "outputs": [],
   "source": [
    "# View some extended metadata fields\n",
    "for place in advanced_results[:3]:\n",
    "    print(\"Name:\", place.get(\"name\"))\n",
    "    print(\"Types:\", place.get(\"types\"))\n",
    "    print(\"Rating:\", place.get(\"rating\"))\n",
    "    print(\"User Ratings Total:\", place.get(\"user_ratings_total\"))\n",
    "    print(\"Business Status:\", place.get(\"business_status\"))\n",
    "    print(\"Opening Hours:\", place.get(\"opening_hours\", {}).get(\"open_now\"))\n",
    "    print(\"---\")"
   ]
  }
 ],
 "metadata": {
  "language_info": {
   "name": "python"
  }
 },
 "nbformat": 4,
 "nbformat_minor": 5
}
